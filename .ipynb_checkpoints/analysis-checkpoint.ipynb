{
 "cells": [
  {
   "cell_type": "code",
   "execution_count": 1,
   "metadata": {},
   "outputs": [],
   "source": [
    "from numpy import mean, std\n",
    "import pandas as pd\n",
    "import yfinance as yf\n",
    "import numpy as np"
   ]
  },
  {
   "cell_type": "code",
   "execution_count": 2,
   "metadata": {},
   "outputs": [
    {
     "name": "stdout",
     "output_type": "stream",
     "text": [
      "[*********************100%***********************]  4 of 4 completed\n"
     ]
    }
   ],
   "source": [
    "\n",
    "# define range\n",
    "start_date = '2022-01-22'\n",
    "end_date = '2023-02-22'\n",
    "\n",
    "\n",
    "# Calculate the 10-day price change for the S&P 500 index\n",
    "data = yf.download(['SPY', 'AMZN', 'GOOG', 'MSFT'], start_date, end_date)\n",
    "\n"
   ]
  },
  {
   "cell_type": "code",
   "execution_count": 3,
   "metadata": {},
   "outputs": [
    {
     "name": "stdout",
     "output_type": "stream",
     "text": [
      "MultiIndex([('Adj Close', 'AMZN'),\n",
      "            ('Adj Close', 'GOOG'),\n",
      "            ('Adj Close', 'MSFT'),\n",
      "            ('Adj Close',  'SPY'),\n",
      "            (    'Close', 'AMZN'),\n",
      "            (    'Close', 'GOOG'),\n",
      "            (    'Close', 'MSFT'),\n",
      "            (    'Close',  'SPY'),\n",
      "            (     'High', 'AMZN'),\n",
      "            (     'High', 'GOOG'),\n",
      "            (     'High', 'MSFT'),\n",
      "            (     'High',  'SPY'),\n",
      "            (      'Low', 'AMZN'),\n",
      "            (      'Low', 'GOOG'),\n",
      "            (      'Low', 'MSFT'),\n",
      "            (      'Low',  'SPY'),\n",
      "            (     'Open', 'AMZN'),\n",
      "            (     'Open', 'GOOG'),\n",
      "            (     'Open', 'MSFT'),\n",
      "            (     'Open',  'SPY'),\n",
      "            (   'Volume', 'AMZN'),\n",
      "            (   'Volume', 'GOOG'),\n",
      "            (   'Volume', 'MSFT'),\n",
      "            (   'Volume',  'SPY')],\n",
      "           )\n",
      "                  AMZN        GOOG        MSFT         SPY\n",
      "Date                                                      \n",
      "2022-01-24  144.544006  130.371994  292.885132  432.818237\n",
      "2022-01-25  139.985992  126.735497  285.097809  427.533966\n",
      "2022-01-26  138.872498  129.240005  293.221130  426.461395\n",
      "2022-01-27  139.637497  129.121002  296.314362  424.355560\n",
      "2022-01-28  143.977997  133.289505  304.635345  434.894592\n"
     ]
    }
   ],
   "source": [
    "print(data.columns)\n",
    "print(data['Adj Close'].head())"
   ]
  },
  {
   "cell_type": "code",
   "execution_count": 6,
   "metadata": {},
   "outputs": [
    {
     "name": "stdout",
     "output_type": "stream",
     "text": [
      "                  AMZN        GOOG        MSFT  SPY\n",
      "Date                                               \n",
      "2022-02-04  101.756635  102.242663  102.250445  NaN\n",
      "2022-02-07  101.812356  102.296910  102.246996  NaN\n",
      "2022-02-08  101.893698  102.361756  102.288848  NaN\n",
      "2022-02-09  101.966179  102.403469  102.272450  NaN\n",
      "2022-02-10  102.034601  102.437972  102.190382  NaN\n",
      "...                ...         ...         ...  ...\n",
      "2023-02-14   99.848894   99.774316  100.534522  NaN\n",
      "2023-02-15   99.822912   99.727980  100.669363  NaN\n",
      "2023-02-16   99.754596   99.628772  100.701585  NaN\n",
      "2023-02-17   99.727582   99.542851  100.733372  NaN\n",
      "2023-02-21   99.699967   99.461022  100.763214  NaN\n",
      "\n",
      "[262 rows x 4 columns]\n"
     ]
    },
    {
     "name": "stderr",
     "output_type": "stream",
     "text": [
      "C:\\Users\\pietr\\AppData\\Local\\Temp\\ipykernel_18512\\2625214606.py:6: SettingWithCopyWarning: \n",
      "A value is trying to be set on a copy of a slice from a DataFrame.\n",
      "Try using .loc[row_indexer,col_indexer] = value instead\n",
      "\n",
      "See the caveats in the documentation: https://pandas.pydata.org/pandas-docs/stable/user_guide/indexing.html#returning-a-view-versus-a-copy\n",
      "  prices_df[series] = rel_ratio\n",
      "C:\\Users\\pietr\\AppData\\Local\\Temp\\ipykernel_18512\\2625214606.py:7: SettingWithCopyWarning: \n",
      "A value is trying to be set on a copy of a slice from a DataFrame\n",
      "\n",
      "See the caveats in the documentation: https://pandas.pydata.org/pandas-docs/stable/user_guide/indexing.html#returning-a-view-versus-a-copy\n",
      "  prices_df.dropna(axis=0, how='all', inplace=True)\n"
     ]
    }
   ],
   "source": [
    "def rs_ratio(prices_df, benchmark, window=10):\n",
    "    for series in prices_df:\n",
    "        rs = (prices_df[series].divide(benchmark)) * 100\n",
    "        rs_ratio = rs.rolling(window).mean()\n",
    "        rel_ratio = 100 + ((rs_ratio - rs_ratio.mean()) / rs_ratio.std() + 1)\n",
    "        prices_df[series] = rel_ratio\n",
    "    prices_df.dropna(axis=0, how='all', inplace=True)\n",
    "    return prices_df\n",
    "\n",
    "ratio_df = rs_ratio(data['Adj Close'], data[('Adj Close', 'SPY')])\n",
    "print(ratio_df)"
   ]
  },
  {
   "cell_type": "markdown",
   "metadata": {},
   "source": []
  }
 ],
 "metadata": {
  "kernelspec": {
   "display_name": "Python 3 (ipykernel)",
   "language": "python",
   "name": "python3"
  },
  "language_info": {
   "codemirror_mode": {
    "name": "ipython",
    "version": 3
   },
   "file_extension": ".py",
   "mimetype": "text/x-python",
   "name": "python",
   "nbconvert_exporter": "python",
   "pygments_lexer": "ipython3",
   "version": "3.9.15"
  },
  "vscode": {
   "interpreter": {
    "hash": "541b532a2d6a6747251eebfebefe876fa5d7bade5f7c9c119003ccd4ba69ae3d"
   }
  }
 },
 "nbformat": 4,
 "nbformat_minor": 2
}
